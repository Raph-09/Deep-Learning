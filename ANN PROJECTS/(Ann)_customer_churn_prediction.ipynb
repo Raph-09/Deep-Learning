{
  "nbformat": 4,
  "nbformat_minor": 0,
  "metadata": {
    "colab": {
      "name": "(Ann) customer churn prediction.ipynb",
      "provenance": [],
      "collapsed_sections": []
    },
    "kernelspec": {
      "name": "python3",
      "display_name": "Python 3"
    },
    "language_info": {
      "name": "python"
    },
    "accelerator": "GPU"
  },
  "cells": [
    {
      "cell_type": "code",
      "metadata": {
        "id": "PNubeTah06Rm",
        "colab": {
          "base_uri": "https://localhost:8080/"
        },
        "outputId": "3fdf0a57-2f3b-49e5-f144-80138761a4d5"
      },
      "source": [
        "from google.colab import drive\n",
        "drive.mount(\"/content/drive\")"
      ],
      "execution_count": null,
      "outputs": [
        {
          "output_type": "stream",
          "text": [
            "Mounted at /content/drive\n"
          ],
          "name": "stdout"
        }
      ]
    },
    {
      "cell_type": "code",
      "metadata": {
        "id": "Ul5AdWGgHBZw"
      },
      "source": [
        "import pandas as pd\n",
        "from tensorflow import keras\n",
        "from tensorflow.keras import layers\n",
        "import numpy as np\n",
        "from sklearn.model_selection import train_test_split\n",
        "import keras\n",
        "from keras.models import Sequential\n",
        "from keras.layers import Dense\n",
        "from keras.layers import LeakyReLU,PReLU,ELU\n",
        "from keras.layers import Dropout\n",
        "from sklearn.metrics import confusion_matrix\n",
        "from sklearn.metrics import accuracy_score\n",
        "from sklearn.feature_selection import SelectKBest\n",
        "from sklearn.feature_selection import chi2"
      ],
      "execution_count": null,
      "outputs": []
    },
    {
      "cell_type": "code",
      "metadata": {
        "id": "dVH2HjFeIVeh"
      },
      "source": [
        ""
      ],
      "execution_count": null,
      "outputs": []
    },
    {
      "cell_type": "code",
      "metadata": {
        "id": "8N0RrllWHhYe"
      },
      "source": [
        "#lets read the data\n",
        "df = pd.read_csv('/content/drive/MyDrive/datascience_file/Churn_Modelling.csv')"
      ],
      "execution_count": null,
      "outputs": []
    },
    {
      "cell_type": "code",
      "metadata": {
        "colab": {
          "base_uri": "https://localhost:8080/",
          "height": 224
        },
        "id": "3SI5DHAhJbe2",
        "outputId": "6b6b3848-349d-4d41-9f5b-30220aa95306"
      },
      "source": [
        "#check first 5 rows\n",
        "df.head()"
      ],
      "execution_count": null,
      "outputs": [
        {
          "output_type": "execute_result",
          "data": {
            "text/html": [
              "<div>\n",
              "<style scoped>\n",
              "    .dataframe tbody tr th:only-of-type {\n",
              "        vertical-align: middle;\n",
              "    }\n",
              "\n",
              "    .dataframe tbody tr th {\n",
              "        vertical-align: top;\n",
              "    }\n",
              "\n",
              "    .dataframe thead th {\n",
              "        text-align: right;\n",
              "    }\n",
              "</style>\n",
              "<table border=\"1\" class=\"dataframe\">\n",
              "  <thead>\n",
              "    <tr style=\"text-align: right;\">\n",
              "      <th></th>\n",
              "      <th>RowNumber</th>\n",
              "      <th>CustomerId</th>\n",
              "      <th>Surname</th>\n",
              "      <th>CreditScore</th>\n",
              "      <th>Geography</th>\n",
              "      <th>Gender</th>\n",
              "      <th>Age</th>\n",
              "      <th>Tenure</th>\n",
              "      <th>Balance</th>\n",
              "      <th>NumOfProducts</th>\n",
              "      <th>HasCrCard</th>\n",
              "      <th>IsActiveMember</th>\n",
              "      <th>EstimatedSalary</th>\n",
              "      <th>Exited</th>\n",
              "    </tr>\n",
              "  </thead>\n",
              "  <tbody>\n",
              "    <tr>\n",
              "      <th>0</th>\n",
              "      <td>1</td>\n",
              "      <td>15634602</td>\n",
              "      <td>Hargrave</td>\n",
              "      <td>619</td>\n",
              "      <td>France</td>\n",
              "      <td>Female</td>\n",
              "      <td>42</td>\n",
              "      <td>2</td>\n",
              "      <td>0.00</td>\n",
              "      <td>1</td>\n",
              "      <td>1</td>\n",
              "      <td>1</td>\n",
              "      <td>101348.88</td>\n",
              "      <td>1</td>\n",
              "    </tr>\n",
              "    <tr>\n",
              "      <th>1</th>\n",
              "      <td>2</td>\n",
              "      <td>15647311</td>\n",
              "      <td>Hill</td>\n",
              "      <td>608</td>\n",
              "      <td>Spain</td>\n",
              "      <td>Female</td>\n",
              "      <td>41</td>\n",
              "      <td>1</td>\n",
              "      <td>83807.86</td>\n",
              "      <td>1</td>\n",
              "      <td>0</td>\n",
              "      <td>1</td>\n",
              "      <td>112542.58</td>\n",
              "      <td>0</td>\n",
              "    </tr>\n",
              "    <tr>\n",
              "      <th>2</th>\n",
              "      <td>3</td>\n",
              "      <td>15619304</td>\n",
              "      <td>Onio</td>\n",
              "      <td>502</td>\n",
              "      <td>France</td>\n",
              "      <td>Female</td>\n",
              "      <td>42</td>\n",
              "      <td>8</td>\n",
              "      <td>159660.80</td>\n",
              "      <td>3</td>\n",
              "      <td>1</td>\n",
              "      <td>0</td>\n",
              "      <td>113931.57</td>\n",
              "      <td>1</td>\n",
              "    </tr>\n",
              "    <tr>\n",
              "      <th>3</th>\n",
              "      <td>4</td>\n",
              "      <td>15701354</td>\n",
              "      <td>Boni</td>\n",
              "      <td>699</td>\n",
              "      <td>France</td>\n",
              "      <td>Female</td>\n",
              "      <td>39</td>\n",
              "      <td>1</td>\n",
              "      <td>0.00</td>\n",
              "      <td>2</td>\n",
              "      <td>0</td>\n",
              "      <td>0</td>\n",
              "      <td>93826.63</td>\n",
              "      <td>0</td>\n",
              "    </tr>\n",
              "    <tr>\n",
              "      <th>4</th>\n",
              "      <td>5</td>\n",
              "      <td>15737888</td>\n",
              "      <td>Mitchell</td>\n",
              "      <td>850</td>\n",
              "      <td>Spain</td>\n",
              "      <td>Female</td>\n",
              "      <td>43</td>\n",
              "      <td>2</td>\n",
              "      <td>125510.82</td>\n",
              "      <td>1</td>\n",
              "      <td>1</td>\n",
              "      <td>1</td>\n",
              "      <td>79084.10</td>\n",
              "      <td>0</td>\n",
              "    </tr>\n",
              "  </tbody>\n",
              "</table>\n",
              "</div>"
            ],
            "text/plain": [
              "   RowNumber  CustomerId   Surname  ...  IsActiveMember EstimatedSalary Exited\n",
              "0          1    15634602  Hargrave  ...               1       101348.88      1\n",
              "1          2    15647311      Hill  ...               1       112542.58      0\n",
              "2          3    15619304      Onio  ...               0       113931.57      1\n",
              "3          4    15701354      Boni  ...               0        93826.63      0\n",
              "4          5    15737888  Mitchell  ...               1        79084.10      0\n",
              "\n",
              "[5 rows x 14 columns]"
            ]
          },
          "metadata": {
            "tags": []
          },
          "execution_count": 5
        }
      ]
    },
    {
      "cell_type": "code",
      "metadata": {
        "colab": {
          "base_uri": "https://localhost:8080/"
        },
        "id": "jltjz30XJc0D",
        "outputId": "390c90a9-89ab-42c5-ccb4-efd6adf7803b"
      },
      "source": [
        "#check for null values\n",
        "df.isnull().sum()"
      ],
      "execution_count": null,
      "outputs": [
        {
          "output_type": "execute_result",
          "data": {
            "text/plain": [
              "RowNumber          0\n",
              "CustomerId         0\n",
              "Surname            0\n",
              "CreditScore        0\n",
              "Geography          0\n",
              "Gender             0\n",
              "Age                0\n",
              "Tenure             0\n",
              "Balance            0\n",
              "NumOfProducts      0\n",
              "HasCrCard          0\n",
              "IsActiveMember     0\n",
              "EstimatedSalary    0\n",
              "Exited             0\n",
              "dtype: int64"
            ]
          },
          "metadata": {
            "tags": []
          },
          "execution_count": 6
        }
      ]
    },
    {
      "cell_type": "code",
      "metadata": {
        "colab": {
          "base_uri": "https://localhost:8080/"
        },
        "id": "jYs_SB9TJmQX",
        "outputId": "f17359c2-dc95-4adb-8f5e-16b97ea14d85"
      },
      "source": [
        "#check for number of unique values for each column\n",
        "df.nunique()"
      ],
      "execution_count": null,
      "outputs": [
        {
          "output_type": "execute_result",
          "data": {
            "text/plain": [
              "RowNumber          10000\n",
              "CustomerId         10000\n",
              "Surname             2932\n",
              "CreditScore          460\n",
              "Geography              3\n",
              "Gender                 2\n",
              "Age                   70\n",
              "Tenure                11\n",
              "Balance             6382\n",
              "NumOfProducts          4\n",
              "HasCrCard              2\n",
              "IsActiveMember         2\n",
              "EstimatedSalary     9999\n",
              "Exited                 2\n",
              "dtype: int64"
            ]
          },
          "metadata": {
            "tags": []
          },
          "execution_count": 7
        }
      ]
    },
    {
      "cell_type": "code",
      "metadata": {
        "id": "VuCE7ElsJsQP"
      },
      "source": [
        "#drop unnecassary columns\n",
        "df.drop(['Surname', 'RowNumber','CustomerId'], axis = 1,inplace=True)"
      ],
      "execution_count": null,
      "outputs": []
    },
    {
      "cell_type": "code",
      "metadata": {
        "colab": {
          "base_uri": "https://localhost:8080/"
        },
        "id": "6txyZhIJKBRG",
        "outputId": "f4e0b63d-bdbb-4897-b9ad-9d127926a9b7"
      },
      "source": [
        "df.columns"
      ],
      "execution_count": null,
      "outputs": [
        {
          "output_type": "execute_result",
          "data": {
            "text/plain": [
              "Index(['CreditScore', 'Geography', 'Gender', 'Age', 'Tenure', 'Balance',\n",
              "       'NumOfProducts', 'HasCrCard', 'IsActiveMember', 'EstimatedSalary',\n",
              "       'Exited'],\n",
              "      dtype='object')"
            ]
          },
          "metadata": {
            "tags": []
          },
          "execution_count": 9
        }
      ]
    },
    {
      "cell_type": "code",
      "metadata": {
        "id": "TPOTVIqrKLWw"
      },
      "source": [
        ""
      ],
      "execution_count": null,
      "outputs": []
    },
    {
      "cell_type": "markdown",
      "metadata": {
        "id": "sWrwEvgKMTp2"
      },
      "source": [
        "  **EDA**"
      ]
    },
    {
      "cell_type": "code",
      "metadata": {
        "colab": {
          "base_uri": "https://localhost:8080/",
          "height": 248
        },
        "id": "lB9LFHFqMKmr",
        "outputId": "77a9b379-939b-4dd3-8d50-6c1fbd23d99b"
      },
      "source": [
        "import matplotlib.pyplot as plt\n",
        "import seaborn as sns\n",
        "label = ['present','Exited']\n",
        "plt.pie(x=df['Exited'].value_counts(),labels=label,autopct=\"%.0f%%\")\n",
        "plt.show()\n"
      ],
      "execution_count": null,
      "outputs": [
        {
          "output_type": "display_data",
          "data": {
            "image/png": "[encoded data removed]",
            "text/plain": [
              "<Figure size 432x288 with 1 Axes>"
            ]
          },
          "metadata": {
            "tags": []
          }
        }
      ]
    },
    {
      "cell_type": "code",
      "metadata": {
        "colab": {
          "base_uri": "https://localhost:8080/",
          "height": 279
        },
        "id": "_QHLU-NCMw09",
        "outputId": "40043286-0c3a-46c9-84be-089d1f48a274"
      },
      "source": [
        "sns.barplot(x=df.Gender,y=df.Exited,data=df,palette=\"Set1\")\n",
        "plt.show()"
      ],
      "execution_count": null,
      "outputs": [
        {
          "output_type": "display_data",
          "data": {
            "image/png": "[encoded data removed]",
            "text/plain": [
              "<Figure size 432x288 with 1 Axes>"
            ]
          },
          "metadata": {
            "tags": [],
            "needs_background": "light"
          }
        }
      ]
    },
    {
      "cell_type": "code",
      "metadata": {
        "id": "1kpRXBEpNxSK",
        "colab": {
          "base_uri": "https://localhost:8080/",
          "height": 279
        },
        "outputId": "85d9a76b-e4b3-4904-97a6-948bbda672bd"
      },
      "source": [
        "sns.barplot(x=df['Exited'],y=df['Age'],palette=\"afmhot_r\")\n",
        "plt.show()"
      ],
      "execution_count": null,
      "outputs": [
        {
          "output_type": "display_data",
          "data": {
            "image/png": "[encoded data removed]",
            "text/plain": [
              "<Figure size 432x288 with 1 Axes>"
            ]
          },
          "metadata": {
            "tags": [],
            "needs_background": "light"
          }
        }
      ]
    },
    {
      "cell_type": "code",
      "metadata": {
        "colab": {
          "base_uri": "https://localhost:8080/",
          "height": 265
        },
        "id": "j67oo6KkOclX",
        "outputId": "cfbbd66a-c134-421f-b216-1a4f1fa34492"
      },
      "source": [
        "plt.hist(df.Age,color='blue')\n",
        "plt.show()"
      ],
      "execution_count": null,
      "outputs": [
        {
          "output_type": "display_data",
          "data": {
            "image/png": "[encoded data removed]",
            "text/plain": [
              "<Figure size 432x288 with 1 Axes>"
            ]
          },
          "metadata": {
            "tags": [],
            "needs_background": "light"
          }
        }
      ]
    },
    {
      "cell_type": "code",
      "metadata": {
        "id": "MW3LC1AFVQoF"
      },
      "source": [
        ""
      ],
      "execution_count": null,
      "outputs": []
    },
    {
      "cell_type": "markdown",
      "metadata": {
        "id": "6MwPRsa-VzpX"
      },
      "source": [
        "Categorical Encoding"
      ]
    },
    {
      "cell_type": "code",
      "metadata": {
        "id": "FWHcbQYNV1-U"
      },
      "source": [
        "df = pd.get_dummies(df,drop_first=True)"
      ],
      "execution_count": null,
      "outputs": []
    },
    {
      "cell_type": "code",
      "metadata": {
        "colab": {
          "base_uri": "https://localhost:8080/",
          "height": 691
        },
        "id": "-NwSy9CUp4F8",
        "outputId": "76823bf8-4525-414a-ee6e-228fc9fa7fc9"
      },
      "source": [
        "plt.figure(figsize=(12,10))\n",
        "cor = df.corr()\n",
        "sns.heatmap(cor, annot=True, cmap=plt.cm.CMRmap_r)\n",
        "plt.show()"
      ],
      "execution_count": null,
      "outputs": [
        {
          "output_type": "display_data",
          "data": {
            "image/png": "[encoded data removed]",
            "text/plain": [
              "<Figure size 864x720 with 2 Axes>"
            ]
          },
          "metadata": {
            "tags": [],
            "needs_background": "light"
          }
        }
      ]
    },
    {
      "cell_type": "code",
      "metadata": {
        "id": "KFnkRzAew0Cr"
      },
      "source": [
        ""
      ],
      "execution_count": null,
      "outputs": []
    },
    {
      "cell_type": "code",
      "metadata": {
        "id": "6oMPmN8PV7mv"
      },
      "source": [
        "#lets divide the data into x and y\n",
        "y = df.Exited\n",
        "x = df.drop('Exited',axis=1)"
      ],
      "execution_count": null,
      "outputs": []
    },
    {
      "cell_type": "code",
      "metadata": {
        "id": "lxLQUmQTWuzF"
      },
      "source": [
        "x_train, x_test, y_train, y_test = train_test_split(x, y, test_size = 0.2, random_state = 0)"
      ],
      "execution_count": null,
      "outputs": []
    },
    {
      "cell_type": "code",
      "metadata": {
        "id": "1nphkYLLxVSn"
      },
      "source": [
        "from sklearn.preprocessing import StandardScaler\n",
        "#features scaling\n",
        "stc = StandardScaler()\n",
        "x_train = stc.fit_transform(x_train)\n",
        "x_test = stc.transform(x_test)"
      ],
      "execution_count": null,
      "outputs": []
    },
    {
      "cell_type": "code",
      "metadata": {
        "colab": {
          "base_uri": "https://localhost:8080/"
        },
        "id": "2DKsnaq-5vDQ",
        "outputId": "742a7ebb-587e-4521-8766-8d73dede4284"
      },
      "source": [
        "x_train.shape"
      ],
      "execution_count": null,
      "outputs": [
        {
          "output_type": "execute_result",
          "data": {
            "text/plain": [
              "(8000, 11)"
            ]
          },
          "metadata": {
            "tags": []
          },
          "execution_count": 20
        }
      ]
    },
    {
      "cell_type": "code",
      "metadata": {
        "id": "odiEY2jhxw6F"
      },
      "source": [
        "#initialize the classifier\n",
        "model = Sequential()\n",
        "model.add(Dense(units=347,kernel_initializer='he_uniform', input_dim=11, activation='relu'))\n",
        "model.add(Dropout(0.2))\n",
        "model.add(Dense(units=132,kernel_initializer='he_uniform', activation='relu'))\n",
        "model.add(Dropout(0.2))\n",
        "model.add(Dense(units=132,kernel_initializer='he_uniform',activation='relu'))\n",
        "model.add(Dropout(0.2))\n",
        "model.add(Dense(units=242,kernel_initializer='he_uniform', activation='relu'))\n",
        "model.add(Dropout(0.2))\n",
        "model.add(Dense(units=482,kernel_initializer='he_uniform', activation='relu'))\n",
        "model.add(Dropout(0.2))\n",
        "model.add(Dense(units=242,kernel_initializer='he_uniform', activation='relu'))\n",
        "model.add(Dropout(0.2))\n",
        "model.add(Dense(units=412,kernel_initializer='he_uniform', activation='relu'))\n",
        "model.add(Dropout(0.2))\n",
        "model.add(Dense(units=332,kernel_initializer='he_uniform', activation='relu'))\n",
        "model.add(Dropout(0.2))\n",
        "model.add(Dense(units=32,kernel_initializer='he_uniform', activation='relu'))\n",
        "model.add(Dropout(0.2))\n",
        "model.add(Dense(units=32,kernel_initializer='he_uniform', activation='relu'))\n",
        "model.add(Dropout(0.2))\n",
        "model.add(Dense(units=32,kernel_initializer='he_uniform', activation='relu'))\n",
        "model.add(Dropout(0.2))\n",
        "model.add(Dense(units=32,kernel_initializer='he_uniform', activation='relu'))\n",
        "model.add(Dropout(0.2))\n",
        "model.add(Dense(units=32,kernel_initializer='he_uniform', activation='relu'))\n",
        "model.add(Dropout(0.2))\n",
        "model.add(Dense(units=32,kernel_initializer='he_uniform', activation='relu'))\n",
        "model.add(Dropout(0.2))\n",
        "model.add(Dense(1, activation='sigmoid'))"
      ],
      "execution_count": null,
      "outputs": []
    },
    {
      "cell_type": "code",
      "metadata": {
        "id": "7ssjW6E759qK"
      },
      "source": [
        "model.compile(loss='binary_crossentropy', optimizer='adam', metrics=['accuracy'])"
      ],
      "execution_count": null,
      "outputs": []
    },
    {
      "cell_type": "code",
      "metadata": {
        "colab": {
          "base_uri": "https://localhost:8080/"
        },
        "id": "mHZ3RVrv6EZj",
        "outputId": "0fcaa298-93de-43cc-876a-322faee20d54"
      },
      "source": [
        "model.fit(x_train,y_train, epochs=20, batch_size=1000)"
      ],
      "execution_count": null,
      "outputs": [
        {
          "output_type": "stream",
          "text": [
            "Epoch 1/20\n",
            "8/8 [==============================] - 1s 14ms/step - loss: 1.7588 - accuracy: 0.4481\n",
            "Epoch 2/20\n",
            "8/8 [==============================] - 0s 14ms/step - loss: 0.6305 - accuracy: 0.7065\n",
            "Epoch 3/20\n",
            "8/8 [==============================] - 0s 14ms/step - loss: 0.5955 - accuracy: 0.7726\n",
            "Epoch 4/20\n",
            "8/8 [==============================] - 0s 13ms/step - loss: 0.5737 - accuracy: 0.7819\n",
            "Epoch 5/20\n",
            "8/8 [==============================] - 0s 12ms/step - loss: 0.5693 - accuracy: 0.7828\n",
            "Epoch 6/20\n",
            "8/8 [==============================] - 0s 12ms/step - loss: 0.5348 - accuracy: 0.7967\n",
            "Epoch 7/20\n",
            "8/8 [==============================] - 0s 11ms/step - loss: 0.5359 - accuracy: 0.7896\n",
            "Epoch 8/20\n",
            "8/8 [==============================] - 0s 11ms/step - loss: 0.5191 - accuracy: 0.7920\n",
            "Epoch 9/20\n",
            "8/8 [==============================] - 0s 11ms/step - loss: 0.4985 - accuracy: 0.7987\n",
            "Epoch 10/20\n",
            "8/8 [==============================] - 0s 11ms/step - loss: 0.4977 - accuracy: 0.7926\n",
            "Epoch 11/20\n",
            "8/8 [==============================] - 0s 11ms/step - loss: 0.4855 - accuracy: 0.7946\n",
            "Epoch 12/20\n",
            "8/8 [==============================] - 0s 11ms/step - loss: 0.4862 - accuracy: 0.7916\n",
            "Epoch 13/20\n",
            "8/8 [==============================] - 0s 11ms/step - loss: 0.4702 - accuracy: 0.7957\n",
            "Epoch 14/20\n",
            "8/8 [==============================] - 0s 11ms/step - loss: 0.4745 - accuracy: 0.7972\n",
            "Epoch 15/20\n",
            "8/8 [==============================] - 0s 11ms/step - loss: 0.4711 - accuracy: 0.7965\n",
            "Epoch 16/20\n",
            "8/8 [==============================] - 0s 11ms/step - loss: 0.4698 - accuracy: 0.7949\n",
            "Epoch 17/20\n",
            "8/8 [==============================] - 0s 11ms/step - loss: 0.4622 - accuracy: 0.7931\n",
            "Epoch 18/20\n",
            "8/8 [==============================] - 0s 11ms/step - loss: 0.4509 - accuracy: 0.7950\n",
            "Epoch 19/20\n",
            "8/8 [==============================] - 0s 11ms/step - loss: 0.4479 - accuracy: 0.7946\n",
            "Epoch 20/20\n",
            "8/8 [==============================] - 0s 11ms/step - loss: 0.4499 - accuracy: 0.7959\n"
          ],
          "name": "stdout"
        },
        {
          "output_type": "execute_result",
          "data": {
            "text/plain": [
              "<tensorflow.python.keras.callbacks.History at 0x7f33beaf6350>"
            ]
          },
          "metadata": {
            "tags": []
          },
          "execution_count": 50
        }
      ]
    },
    {
      "cell_type": "code",
      "metadata": {
        "colab": {
          "base_uri": "https://localhost:8080/"
        },
        "id": "Y52_1ViL4c-d",
        "outputId": "7456c10f-dbc9-46f5-a8d4-97f9b528fbe3"
      },
      "source": [
        "accuracy = model.evaluate(x_train, y_train)\n",
        "print('Training Accuracy: %.0f' % (accuracy[-1]*100),'%')"
      ],
      "execution_count": null,
      "outputs": [
        {
          "output_type": "stream",
          "text": [
            "250/250 [==============================] - 1s 2ms/step - loss: 0.4244 - accuracy: 0.7960\n",
            "Training Accuracy: 80 %\n"
          ],
          "name": "stdout"
        }
      ]
    },
    {
      "cell_type": "code",
      "metadata": {
        "id": "N49TOksXaAcN"
      },
      "source": [
        "y_pred = model.predict(x_test)\n",
        "y_pred = (y_pred > 0.5)"
      ],
      "execution_count": null,
      "outputs": []
    },
    {
      "cell_type": "code",
      "metadata": {
        "id": "9Tr2io2Sbpb8"
      },
      "source": [
        "from sklearn.metrics import accuracy_score\n",
        "score=accuracy_score(y_pred,y_test)"
      ],
      "execution_count": null,
      "outputs": []
    },
    {
      "cell_type": "code",
      "metadata": {
        "colab": {
          "base_uri": "https://localhost:8080/"
        },
        "id": "zHX0x2Ymb4MS",
        "outputId": "6261cb61-0fce-4f7e-b08e-bb713b67f04b"
      },
      "source": [
        "print('Testing Accuracy:',round(score*100),'%')"
      ],
      "execution_count": null,
      "outputs": [
        {
          "output_type": "stream",
          "text": [
            "Testing Accuracy: 80 %\n"
          ],
          "name": "stdout"
        }
      ]
    },
    {
      "cell_type": "code",
      "metadata": {
        "id": "Zy9Yc-U7b6Jl"
      },
      "source": [
        ""
      ],
      "execution_count": null,
      "outputs": []
    }
  ]
}